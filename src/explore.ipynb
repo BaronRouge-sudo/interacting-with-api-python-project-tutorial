{
 "cells": [
  {
   "cell_type": "markdown",
   "metadata": {},
   "source": [
    "# Explore here"
   ]
  },
  {
   "cell_type": "code",
   "execution_count": 1,
   "metadata": {},
   "outputs": [
    {
     "name": "stdout",
     "output_type": "stream",
     "text": [
      "   duration_ms                              name  popularity\n",
      "0       252733       The Trooper - 2015 Remaster          72\n",
      "1       438120  Fear of the Dark - 2015 Remaster          69\n",
      "2       233506  Run to the Hills - 2015 Remaster          69\n"
     ]
    }
   ],
   "source": [
    "import os\n",
    "import pandas as pd\n",
    "import seaborn as sns\n",
    "from dotenv import load_dotenv\n",
    "import spotipy\n",
    "from spotipy.oauth2 import SpotifyClientCredentials\n",
    "import os\n",
    "\n",
    "# load the .env file variables\n",
    "load_dotenv()\n",
    "\n",
    "\n",
    "\n",
    "client_id = os.environ.get(\"CLIENT_ID\")\n",
    "client_secret = os.environ.get(\"CLIENT_SECRET\")\n",
    "\n",
    "\n",
    "spotify = spotipy.Spotify(auth_manager = SpotifyClientCredentials(client_id = client_id,client_secret = client_secret))\n",
    "\n",
    "\n",
    "artist_url = 'spotify:artist:6mdiAmATAx73kdxrNrnlao'\n",
    "results = spotify.artist_top_tracks(artist_url)\n",
    "\n",
    "df = []\n",
    "fields = [\"name\",\"popularity\",\"duration_ms\"]\n",
    "Songlist = []\n",
    "\n",
    "for track in results['tracks']:\n",
    "    tempdict = {}\n",
    "    for k,v in track.items():\n",
    "        if k in fields:\n",
    "            tempdict[k] = v\n",
    "    Songlist.append(tempdict)\n",
    "\n",
    "Dfsongs = pd.DataFrame.from_dict(Songlist)\n",
    "Dfsongs.sort_values([\"popularity\"], ascending=False, inplace = True)\n",
    "\n",
    "print(Dfsongs.head(3))\n",
    "\n",
    "        \n",
    "\n",
    "\n",
    "\n",
    "\n",
    "\n"
   ]
  },
  {
   "cell_type": "code",
   "execution_count": 2,
   "metadata": {},
   "outputs": [
    {
     "name": "stdout",
     "output_type": "stream",
     "text": [
      "Tal y como se muestra en el gráfico, no se aprecia relación entre la duración y la popularidad\n"
     ]
    },
    {
     "data": {
      "image/png": "[encoded data removed]",
      "text/plain": [
       "<Figure size 640x480 with 1 Axes>"
      ]
     },
     "metadata": {},
     "output_type": "display_data"
    }
   ],
   "source": [
    "x = \"duration_ms\"\n",
    "y = \"popularity\"\n",
    "\n",
    "scatter_plot = sns.scatterplot(data = Dfsongs, x = x , y = y)\n",
    "fig = scatter_plot.get_figure()\n",
    "print(\"Tal y como se muestra en el gráfico, no se aprecia relación entre la duración y la popularidad\")\n"
   ]
  }
 ],
 "metadata": {
  "kernelspec": {
   "display_name": "Python 3",
   "language": "python",
   "name": "python3"
  },
  "language_info": {
   "codemirror_mode": {
    "name": "ipython",
    "version": 3
   },
   "file_extension": ".py",
   "mimetype": "text/x-python",
   "name": "python",
   "nbconvert_exporter": "python",
   "pygments_lexer": "ipython3",
   "version": "3.11.4"
  },
  "orig_nbformat": 4
 },
 "nbformat": 4,
 "nbformat_minor": 2
}
